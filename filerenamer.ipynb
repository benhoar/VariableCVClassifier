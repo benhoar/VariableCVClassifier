{
 "cells": [
  {
   "cell_type": "code",
   "execution_count": 2,
   "metadata": {},
   "outputs": [
    {
     "name": "stdout",
     "output_type": "stream",
     "text": [
      "Error: D:/CV_Project_2/9ModelData/E/E_10663.txt\n",
      "Error: D:/CV_Project_2/9ModelData/E/E_10709.txt\n",
      "Error: D:/CV_Project_2/9ModelData/E/E_10721.txt\n",
      "Error: D:/CV_Project_2/9ModelData/E/E_10722.txt\n",
      "Error: D:/CV_Project_2/9ModelData/E/E_10723.txt\n",
      "Error: D:/CV_Project_2/9ModelData/E/E_10724.txt\n",
      "Error: D:/CV_Project_2/9ModelData/E/E_10725.txt\n",
      "Error: D:/CV_Project_2/9ModelData/E/E_10726.txt\n",
      "Error: D:/CV_Project_2/9ModelData/E/E_10727.txt\n",
      "Error: D:/CV_Project_2/9ModelData/E/E_10728.txt\n",
      "Error: D:/CV_Project_2/9ModelData/E/E_10729.txt\n",
      "Error: D:/CV_Project_2/9ModelData/E/E_1073.txt\n",
      "Error: D:/CV_Project_2/9ModelData/E/E_11685.txt\n",
      "Error: D:/CV_Project_2/9ModelData/E/E_11705.txt\n",
      "Error: D:/CV_Project_2/9ModelData/E/E_11714.txt\n",
      "Error: D:/CV_Project_2/9ModelData/E/E_11715.txt\n",
      "Error: D:/CV_Project_2/9ModelData/E/E_11717.txt\n",
      "Error: D:/CV_Project_2/9ModelData/E/E_11718.txt\n",
      "Error: D:/CV_Project_2/9ModelData/E/E_11719.txt\n",
      "Error: D:/CV_Project_2/9ModelData/E/E_1613.txt\n",
      "Error: D:/CV_Project_2/9ModelData/E/E_1841.txt\n",
      "Error: D:/CV_Project_2/9ModelData/E/E_1998.txt\n",
      "6081.0\n",
      "6151.0\n"
     ]
    }
   ],
   "source": [
    "import os, pandas as pd, shutil\n",
    "\n",
    "folder = { 'E':'D:/CV_Project_2/9ModelData/E/' } #\n",
    "\n",
    "for mech, dir in folder.items():\n",
    "    files = os.listdir(dir)\n",
    "    log_path = f'{dir}/log_srs/'\n",
    "    lin_path = f'{dir}/lin_srs/'\n",
    "    if not os.path.isdir(log_path):\n",
    "        os.mkdir(log_path)\n",
    "    if not os.path.isdir(lin_path):\n",
    "        os.mkdir(lin_path)\n",
    "    files = [file for file in files if file.endswith('txt')]\n",
    "    for file in files:\n",
    "        try:\n",
    "            metadata = pd.read_csv(f'{dir}{file[:-4]}')\n",
    "            if metadata.loc[0, 'scan_type'] == 0:\n",
    "                shutil.move(f'{dir}{file[:-4]}', f'{log_path}{file[:-4]}')\n",
    "                shutil.move(f'{dir}{file}', f'{log_path}{file}')\n",
    "            else:\n",
    "                shutil.move(f'{dir}{file[:-4]}', f'{lin_path}{file[:-4]}')\n",
    "                shutil.move(f'{dir}{file}', f'{lin_path}{file}')\n",
    "        except:\n",
    "            print(f'Error: {dir}{file}')\n",
    "    print(len(os.listdir(log_path))/2)\n",
    "    print(len(os.listdir(lin_path))/2)"
   ]
  },
  {
   "cell_type": "code",
   "execution_count": null,
   "metadata": {},
   "outputs": [],
   "source": []
  }
 ],
 "metadata": {
  "kernelspec": {
   "display_name": "Python 3.8.10 64-bit",
   "language": "python",
   "name": "python3"
  },
  "language_info": {
   "codemirror_mode": {
    "name": "ipython",
    "version": 3
   },
   "file_extension": ".py",
   "mimetype": "text/x-python",
   "name": "python",
   "nbconvert_exporter": "python",
   "pygments_lexer": "ipython3",
   "version": "3.8.10"
  },
  "orig_nbformat": 4,
  "vscode": {
   "interpreter": {
    "hash": "c6e433be03db212ca7e66ccbd162d12c14ec0e9dd2dbe441b2a80f7ef28936c4"
   }
  }
 },
 "nbformat": 4,
 "nbformat_minor": 2
}
